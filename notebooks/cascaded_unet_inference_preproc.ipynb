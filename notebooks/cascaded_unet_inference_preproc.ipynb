{
 "cells": [
  {
   "cell_type": "code",
   "execution_count": 432,
   "metadata": {},
   "outputs": [],
   "source": [
    "#imports \n",
    "import os\n",
    "import sys\n",
    "import wget  #keesh added to replace !wget\n",
    "import argparse  #keesh added to add options\n",
    "\n",
    "#import caffe  #which version to build?\n",
    "\n",
    "import numpy as np\n",
    "from matplotlib import pyplot as plt\n",
    "from matplotlib import image as imsave\n",
    "from IPython import display\n",
    "\n",
    "import scipy\n",
    "import scipy.misc\n",
    "\n",
    "import dicom\n",
    "from dicom.dataset import Dataset\n",
    "from dicom.dataset import FileDataset\n",
    "import datetime\n",
    "import time\n",
    "import platform\n",
    "\n",
    "import natsort\n",
    "import glob"
   ]
  },
  {
   "cell_type": "code",
   "execution_count": 433,
   "metadata": {},
   "outputs": [
    {
     "data": {
      "text/plain": [
       "<Figure size 432x288 with 0 Axes>"
      ]
     },
     "metadata": {},
     "output_type": "display_data"
    }
   ],
   "source": [
    "#constant / setup\n",
    "IMG_DTYPE = np.float\n",
    "SEG_DTYPE = np.uint8\n",
    "plt.set_cmap('gray')"
   ]
  },
  {
   "cell_type": "code",
   "execution_count": 482,
   "metadata": {},
   "outputs": [],
   "source": [
    "#functions\n",
    "\"\"\" Image I/O  \"\"\"\n",
    "def read_dicom_series(directory, filepattern = \"image_*\"):\n",
    "    \"\"\" Reads a DICOM Series files in the given directory.\n",
    "    Only filesnames matching filepattern will be considered\"\"\"\n",
    "    if not os.path.exists(directory) or not os.path.isdir(directory):\n",
    "        raise ValueError(\"Given directory does not exist or is a file : \" + str(directory))\n",
    "    print('\\tRead Dicom dir: ' + str(directory))\n",
    "    lstFilesDCM = natsort.natsorted(glob.glob(os.path.join(directory, filepattern)))\n",
    "    print('\\tLength dicom series: ' + str(len(lstFilesDCM)))\n",
    "    \n",
    "    # Get ref file\n",
    "    RefDs = dicom.read_file(lstFilesDCM[0])\n",
    "    # Load dimensions based on the number of rows, columns, and slices (along the Z axis)\n",
    "    ConstPixelDims = (int(RefDs.Rows), int(RefDs.Columns), len(lstFilesDCM))\n",
    "    # The array is sized based on 'ConstPixelDims'\n",
    "    ArrayDicom = np.zeros(ConstPixelDims, dtype=RefDs.pixel_array.dtype)\n",
    "    Arrayds = [None] * len(lstFilesDCM)\n",
    "    \n",
    "    # loop through all the DICOM files\n",
    "    first_time = True\n",
    "    wc = ww = 0\n",
    "    m = 1\n",
    "    b = 0\n",
    "    for filenameDCM in lstFilesDCM:\n",
    "        # read the file\n",
    "        ds = dicom.read_file(filenameDCM)\n",
    "        # store the raw image data\n",
    "        ArrayDicom[:, :, lstFilesDCM.index(filenameDCM)] = ds.pixel_array\n",
    "        Arrayds[lstFilesDCM.index(filenameDCM)] = ds\n",
    "        if first_time:\n",
    "            try:\n",
    "                wc = int(ds[0x0028, 0x1050].value)   #0028,1050  Window Center: 40\n",
    "                ww = int(ds[0x0028, 0x1051].value)   #0028,1051  Window Width: 400\n",
    "                m = float(ds[0x0028, 0x1053].value)  #0028,1053  Rescale Slope: 1 \n",
    "                b = float(ds[0x0028, 0x1052].value)  #0028,1052  Rescale Intercept: -1024 \n",
    "                first_time = False\n",
    "            except:\n",
    "                wc = ww = 0  #not needed but clearer\n",
    "                m = 1\n",
    "                b = 0\n",
    "\n",
    "    return ArrayDicom, Arrayds, len(lstFilesDCM), wc, ww, m, b\n",
    "\n",
    "def write_dicom_mask(img_slice, ds_slice, slice_no, outputdirectory, filepattern = \".dcm\"):\n",
    "    (rows, cols) = img_slice.shape\n",
    "    base_fname = str(slice_no).zfill(6)\n",
    "    filename = outputdirectory + os.path.sep + base_fname + \"_mask1\" + filepattern\n",
    "    \n",
    "    file_meta = Dataset()\n",
    "    #will need to generate all UID for real\n",
    "    file_meta.MediaStorageSOPClassUID = 'Secondary Capture Image Storage'\n",
    "    file_meta.MediaStorageSOPInstanceUID = '1.3.6.1.4.1.9590.100.1.1.111165684411017669021768385720736873780'\n",
    "    file_meta.ImplementationClassUID = '1.3.6.1.4.1.9590.100.1.0.100.4.0'\n",
    "    ds = FileDataset(filename, {}, file_meta = file_meta, preamble=\"\\0\"*128)\n",
    "    ds.Modality = ds_slice.Modality\n",
    "    ds.ContentDate = str(datetime.date.today()).replace('-','')\n",
    "    ds.ContentTime = str(time.time()) #milliseconds since the epoch\n",
    "    \n",
    "    ds.StudyInstanceUID =  '1.3.6.1.4.1.9590.100.1.1.124313977412360175234271287472804872093'\n",
    "    ds.SeriesInstanceUID = '1.3.6.1.4.1.9590.100.1.1.369231118011061003403421859172643143649'\n",
    "    ds.SOPInstanceUID =    '1.3.6.1.4.1.9590.100.1.1.111165684411017669021768385720736873780'\n",
    "    ds.SOPClassUID = 'Secondary Capture Image Storage'\n",
    "    ds.SecondaryCaptureDeviceManufacturer = platform.sys.version\n",
    "\n",
    "    ## These are the necessary imaging components of the FileDataset object.\n",
    "    ds.SamplesPerPixel = 1\n",
    "    ds.PhotometricInterpretation = \"MONOCHROME2\"\n",
    "    ds.PixelRepresentation = 0\n",
    "    ds.HighBit = 7\n",
    "    ds.BitsStored = 8\n",
    "    ds.BitsAllocated = 8\n",
    "    ds.SmallestImagePixelValue = '\\\\x00\\\\x00'\n",
    "    ds.LargestImagePixelValue = '\\\\x01\\\\x01'\n",
    "    ds.Columns = cols\n",
    "    ds.Rows = rows\n",
    "    ds.PixelData = img_slice.tobytes()\n",
    "    \n",
    "    ds.ImplementationVersionName = \"pydicom\"  #should add version too\n",
    "    image_type_val = ds_slice[0x0008, 0x0008].value\n",
    "    image_type_val_str = \"\\\\\".join(str(x) for x in image_type_val)\n",
    "    image_type_val_str2 = image_type_val_str.replace(\"ORIGINAL\", \"DERIVED\", 1)  \n",
    "    ds.ImageType = image_type_val_str2\n",
    "    \n",
    "    ds.SliceThickness = ds_slice[0x0018, 0x0050].value\n",
    "    ds.SpacingBetweenSlices = ds_slice[0x0018, 0x0088].value \n",
    "\n",
    "    ds.SeriesNumber = ds_slice[0x0020, 0x0011].value\n",
    "    ds.InstanceNumber = ds_slice[0x0020, 0x0013].value\n",
    "\n",
    "    ds.ImagePositionPatient = ds_slice[0x0020, 0x0032].value # 0020,0032  Image Position (Patient): 0\\0\\0\n",
    "    ds.ImageOrientationPatient = ds_slice[0x0020, 0x0037].value # 0020,0037  Image Orientation (Patient): 1\\0\\0\\0\\1\\0\n",
    "    ds.SliceLocation = ds_slice[0x0020, 0x1041].value\n",
    "    ds.PixelSpacing = ds_slice[0x0028, 0x0030].value # 0028,0030 Pixel Spacing 0.742999970912933\\0.742999970912933  \n",
    "    \n",
    "    #Display components\n",
    "    ds.WindowCenter = [0]   #0028,1050  Window Center\n",
    "    ds.WindowWidth = [0]  #0028,1051  Window Width\n",
    "    ds.RescaleIntercept = 0  #0028,1052  Rescale Intercept: 0\n",
    "    ds.RescaleSlope = 1 #0028,1053  Rescale Slope: 1 \n",
    "      \n",
    "    ds.save_as(filename)\n",
    "\n",
    "    \n",
    "\"\"\" Image Preprocessing \"\"\"\n",
    "def to_scale(img, shape=None):\n",
    "    height, width = shape\n",
    "    if img.dtype == SEG_DTYPE:\n",
    "        # This function is only available if Python Imaging Library (PIL) is installed.\n",
    "        # 888 Interpolation to use for re-sizing ('nearest', 'lanczos', 'bilinear', 'bicubic' or 'cubic').\n",
    "        return scipy.misc.imresize(img,(height,width),interp=\"nearest\").astype(SEG_DTYPE)\n",
    "    elif img.dtype == IMG_DTYPE:\n",
    "        max_ = np.max(img)\n",
    "        factor = 255.0/max_ if max_ != 0 else 1\n",
    "        return (scipy.misc.imresize(img,(height,width),interp=\"nearest\")/factor).astype(IMG_DTYPE)\n",
    "    else:\n",
    "        raise TypeError('Error. To scale the image array, its type must be np.uint8 or np.float64. (' + str(img.dtype) + ')')\n",
    "\n",
    "\n",
    "def normalize_image(img):\n",
    "    \"\"\" Normalize image values to [0,1] \"\"\"\n",
    "    min_, max_ = float(np.min(img)), float(np.max(img))\n",
    "    return (img - min_) / (max_ - min_)\n",
    "\n",
    "def normalize_image_using_rescale_slope_intercept(img, m, b):\n",
    "    \"\"\" Normalize image values to y = mx + b \"\"\"\n",
    "    return ((m * img) + b)\n",
    "\n",
    "def byte_normalize_image(img):\n",
    "    \"\"\" Normalize image values to [0,1] \"\"\"\n",
    "    min_, max_ = float(np.min(img)), float(np.max(img))\n",
    "    return (255.0 * (img - min_) / (max_ - min_))\n",
    "\n",
    "\n",
    "def histeq_processor(img):\n",
    "    \"\"\"Histogram equalization\"\"\"\n",
    "    nbr_bins=256\n",
    "    #get image histogram\n",
    "    imhist,bins = np.histogram(img.flatten(),nbr_bins,normed=True)\n",
    "    cdf = imhist.cumsum() #cumulative distribution function\n",
    "    cdf = 255 * cdf / cdf[-1] #normalize\n",
    "    #use linear interpolation of cdf to find new pixel values\n",
    "    original_shape = img.shape\n",
    "    img = np.interp(img.flatten(),bins[:-1],cdf)\n",
    "    img=img/255.0\n",
    "    return img.reshape(original_shape)"
   ]
  },
  {
   "cell_type": "code",
   "execution_count": 483,
   "metadata": {},
   "outputs": [],
   "source": [
    "#disaply function\n",
    "\"\"\" Image Stats / Display\"\"\"\n",
    "def stat(array):\n",
    "    #may need str casts?\n",
    "    print('min: ' + np.min(array) + ' max: ' + np.max(array) + ' median: ' + np.median(array) + ' avg: ' + np.mean(array))\n",
    "\n",
    "\n",
    "def imshow(*args,**kwargs):\n",
    "    \"\"\" Handy function to show multiple plots in on row, possibly with different cmaps and titles\n",
    "    Usage:\n",
    "    imshow(img1, title=\"myPlot\")\n",
    "    imshow(img1,img2, title=['title1','title2'])\n",
    "    imshow(img1,img2, cmap='hot')\n",
    "    imshow(img1,img2,cmap=['gray','Blues']) \"\"\"\n",
    "    cmap = kwargs.get('cmap', 'gray')\n",
    "    title= kwargs.get('title','')\n",
    "    if len(args) == 0:\n",
    "        raise ValueError(\"No images given to imshow\")\n",
    "    elif len(args) == 1:\n",
    "        plt.title(title)\n",
    "        plt.imshow(args[0], interpolation='none')\n",
    "    else:\n",
    "        n = len(args)\n",
    "        if type(cmap) == str:\n",
    "            cmap = [cmap]*n\n",
    "        if type(title) == str:\n",
    "            title= [title]*n\n",
    "        plt.figure(figsize=(n*5,10))\n",
    "        for i in range(n):\n",
    "            plt.subplot(1,n,i+1)\n",
    "            plt.title(title[i])\n",
    "            plt.imshow(args[i], cmap[i])\n",
    "    plt.show()"
   ]
  },
  {
   "cell_type": "code",
   "execution_count": 484,
   "metadata": {},
   "outputs": [],
   "source": [
    "def step1_preprocess_img_slice(img_slc, slice, wc, ww, m, b, results_dir):\n",
    "    \"\"\"\n",
    "    Preprocesses the image 3d volumes by performing the following :\n",
    "    1- Rotate the input volume so the the liver is on the left, spine is at the bottom of the image\n",
    "    2- Set pixels with hounsfield value great than 1200, to zero.\n",
    "    3- Clip all hounsfield values to the range [-100, 400]\n",
    "    4- Normalize values to [0, 1]\n",
    "    5- Rescale img and label slices to 388x388\n",
    "    6- Pad img slices with 92 pixels on all sides (so total shape is 572x572)\n",
    "\n",
    "    Args:\n",
    "        img_slc: raw image slice\n",
    "    Return:\n",
    "        Preprocessed image slice\n",
    "    \"\"\"\n",
    "    img_slc   = img_slc.astype(IMG_DTYPE)\n",
    "    \n",
    "    #apply m and b\n",
    "    img_slc = normalize_image_using_rescale_slope_intercept(img_slc, m, b)\n",
    "    \n",
    "    img_dbl = img_slc\n",
    "    img_slc[img_slc>1200] = 0\n",
    "\n",
    "    thresh_lo = -100\n",
    "    thresh_hi = 400\n",
    "    if wc != 0 and ww != 0:\n",
    "        thresh_lo = wc - (ww / 2)\n",
    "        thresh_hi = wc + (ww / 2)\n",
    "    print(\"HU thresh low= \" + str(thresh_lo))\n",
    "    print(\"HU thresh high= \" + str(thresh_hi))\n",
    "    \n",
    "    print(\"m= \" + str(m))\n",
    "    print(\"b= \" + str(b))\n",
    "\n",
    "    img_slc = np.clip(img_slc, thresh_lo, thresh_hi)\n",
    "    img_hu = img_slc\n",
    "\n",
    "    # imshow(img_dbl, img_hu, img_slc, [\"double\", \"HU thresholded\" , \"final pp\"])\n",
    "    \n",
    "    img_slc   = normalize_image(img_slc)\n",
    "    img_slc   = to_scale(img_slc, (388,388))\n",
    "    img_slc   = np.pad(img_slc,((92,92),(92,92)),mode='reflect')\n",
    "\n",
    "    # keesh -- this was not executed in original notebook and seemd to make results worse!\n",
    "    #img_slc = histeq_processor(img_slc)\n",
    "    \n",
    "    return img_slc"
   ]
  },
  {
   "cell_type": "code",
   "execution_count": 485,
   "metadata": {},
   "outputs": [
    {
     "data": {
      "text/plain": [
       "'C:\\\\Users\\\\eric'"
      ]
     },
     "execution_count": 485,
     "metadata": {},
     "output_type": "execute_result"
    }
   ],
   "source": [
    "os.getcwd()"
   ]
  },
  {
   "cell_type": "code",
   "execution_count": 486,
   "metadata": {},
   "outputs": [],
   "source": [
    "# action block\n",
    "dir = \"E:\\\\data\\\\CDor_3\\\\test1\\\\05-09-2006-CT ABDOMEN NONENH  ENHANCED-BODY-10426\\\\3-TRI LIVER C--33804\""
   ]
  },
  {
   "cell_type": "code",
   "execution_count": 487,
   "metadata": {
    "scrolled": true
   },
   "outputs": [
    {
     "name": "stdout",
     "output_type": "stream",
     "text": [
      "\tRead Dicom dir: E:\\data\\CDor_3\\test1\\05-09-2006-CT ABDOMEN NONENH  ENHANCED-BODY-10426\\3-TRI LIVER C--33804\\\n",
      "\tLength dicom series: 113\n"
     ]
    },
    {
     "name": "stderr",
     "output_type": "stream",
     "text": [
      "D:\\ProgramData\\Anaconda3\\envs\\fcfn_preproc\\lib\\site-packages\\ipykernel_launcher.py:115: DeprecationWarning: `imresize` is deprecated!\n",
      "`imresize` is deprecated in SciPy 1.0.0, and will be removed in 1.3.0.\n",
      "Use Pillow instead: ``numpy.array(Image.fromarray(arr).resize())``.\n"
     ]
    }
   ],
   "source": [
    "img, ds, num_images, wc, ww, m, b = read_dicom_series(dir + os.path.sep, filepattern=\"*.dcm\")\n",
    "\n",
    "slice_no = 90  # 0-based and is in order \n",
    "img_slc = img[..., slice_no]\n",
    "ds_slc = ds[slice_no]\n",
    "\n",
    "img_slc = img_slc.astype(IMG_DTYPE)\n",
    "img_slc = normalize_image_using_rescale_slope_intercept(img_slc, m, b)\n",
    "img_slc = byte_normalize_image(img_slc)\n",
    "\n",
    "img_slc = to_scale(img_slc, (400,400))\n",
    "img_slc = img_slc.astype(SEG_DTYPE)\n",
    "\n",
    "write_dicom_mask(img_slc, ds_slc, slice_no, \"E:\\\\data\\\\CDor_3\\\\test_write_dcm\", filepattern = \".dcm\")"
   ]
  },
  {
   "cell_type": "code",
   "execution_count": 440,
   "metadata": {},
   "outputs": [],
   "source": [
    "#img_p = step1_preprocess_img_slice(img[...,100], 100, wc, ww, m, b, \"\")\n",
    "#imshow(img_p, \"Preproced image\")"
   ]
  },
  {
   "cell_type": "code",
   "execution_count": null,
   "metadata": {},
   "outputs": [],
   "source": [
    ""
   ]
  },
  {
   "cell_type": "code",
   "execution_count": null,
   "metadata": {},
   "outputs": [],
   "source": [
    ""
   ]
  },
  {
   "cell_type": "code",
   "execution_count": null,
   "metadata": {},
   "outputs": [],
   "source": [
    ""
   ]
  }
 ],
 "metadata": {
  "kernelspec": {
   "display_name": "Python 2",
   "language": "python",
   "name": "python2"
  },
  "language_info": {
   "codemirror_mode": {
    "name": "ipython",
    "version": 2.0
   },
   "file_extension": ".py",
   "mimetype": "text/x-python",
   "name": "python",
   "nbconvert_exporter": "python",
   "pygments_lexer": "ipython2",
   "version": "2.7.15"
  }
 },
 "nbformat": 4,
 "nbformat_minor": 0
}